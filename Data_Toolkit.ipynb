{
  "nbformat": 4,
  "nbformat_minor": 0,
  "metadata": {
    "colab": {
      "provenance": []
    },
    "kernelspec": {
      "name": "python3",
      "display_name": "Python 3"
    },
    "language_info": {
      "name": "python"
    }
  },
  "cells": [
    {
      "cell_type": "markdown",
      "source": [
        "1.What is NumPy, and why is it widely used in Python?"
      ],
      "metadata": {
        "id": "M2djh90QOsDf"
      }
    },
    {
      "cell_type": "markdown",
      "source": [
        "->NumPy, short for Numerical Python, is a fundamental open-source library in Python for numerical computing. It provides a high-performance multidimensional array object and tools for working with these arrays\n",
        "\n"
      ],
      "metadata": {
        "id": "MTqIDpCd1RHU"
      }
    },
    {
      "cell_type": "markdown",
      "source": [
        "2. How does broadcasting work in NumPy?"
      ],
      "metadata": {
        "id": "4r5wfXyz30BS"
      }
    },
    {
      "cell_type": "markdown",
      "source": [
        "->Broadcasting follows a set of rules to determine if two arrays are compatible for an operation. NumPy compares the shapes of the two arrays starting from the trailing dimension and moving left. Two dimensions are compatible if:\n",
        "\n",
        "\n",
        "They are equal in size.\n",
        "\n",
        "One of them is 1"
      ],
      "metadata": {
        "id": "a3zC79Gy4LAv"
      }
    },
    {
      "cell_type": "markdown",
      "source": [
        "3.What is a Pandas DataFrame?"
      ],
      "metadata": {
        "id": "QQKSzueT49Q1"
      }
    },
    {
      "cell_type": "markdown",
      "source": [
        "->A Pandas DataFrame is a two-dimensional, mutable data structure in Python that organizes data into a table-like format with labeled rows and columns."
      ],
      "metadata": {
        "id": "oZhZupM35SCm"
      }
    },
    {
      "cell_type": "markdown",
      "source": [
        "4.Explain the use of the groupby() method in Pandas?"
      ],
      "metadata": {
        "id": "2yVaXi_j5Tpj"
      }
    },
    {
      "cell_type": "markdown",
      "source": [
        "->The groupby() method is highly versatile and is used for a variety of tasks, including:\n",
        "\n",
        "Calculating Summary Statistics: One of the most common uses is to find aggregate values for each group.\n",
        "\n",
        "Finding Averages: To find the average of a specific column for each group, we would use  function like mean()"
      ],
      "metadata": {
        "id": "XTVdfGjO5gqv"
      }
    },
    {
      "cell_type": "markdown",
      "source": [
        "5.Why is Seaborn preferred for statistical visualizations?"
      ],
      "metadata": {
        "id": "g3vDDUFb6I6R"
      }
    },
    {
      "cell_type": "markdown",
      "source": [
        "->Seaborn is a Python library that's highly preferred for statistical visualizations because it provides a high-level, easy-to-use interface for creating informative and visually appealing plots."
      ],
      "metadata": {
        "id": "yOGKu9Vl6NNj"
      }
    },
    {
      "cell_type": "markdown",
      "source": [
        "6.What are the differences between NumPy arrays and Python lists?"
      ],
      "metadata": {
        "id": "lIk_fxJy6ett"
      }
    },
    {
      "cell_type": "markdown",
      "source": [
        "->NumPy arrays and Python lists are both used to store collections of data, but they differ in their performance, functionality, and how they handle data types."
      ],
      "metadata": {
        "id": "z2uBmQd47AuF"
      }
    },
    {
      "cell_type": "markdown",
      "source": [
        "7.What is a heatmap, and when should it be used?"
      ],
      "metadata": {
        "id": "3y6z4ks17FBn"
      }
    },
    {
      "cell_type": "markdown",
      "source": [
        "->A heatmap is a data visualization technique that represents the magnitude of values in a two-dimensional matrix using a color gradient\n",
        "\n",
        "Heatmaps are most effective when we need to visualize large, complex datasets and identify relationships or patterns"
      ],
      "metadata": {
        "id": "SnyyemgT7JWi"
      }
    },
    {
      "cell_type": "markdown",
      "source": [
        "8.What does the term “vectorized operation” mean in NumPy?"
      ],
      "metadata": {
        "id": "tu0ln0z87aDR"
      }
    },
    {
      "cell_type": "markdown",
      "source": [
        "->The term \"vectorized operation\" in NumPy refers to applying a mathematical operation to an entire array at once, without the need for an explicit for loop."
      ],
      "metadata": {
        "id": "jDBjDLY57jLN"
      }
    },
    {
      "cell_type": "markdown",
      "source": [
        "9.How does Matplotlib differ from Plotly?"
      ],
      "metadata": {
        "id": "p9Dg_o1E7sKA"
      }
    },
    {
      "cell_type": "markdown",
      "source": [
        "->Matplotlib and Plotly are both popular Python libraries for data visualization, but they serve different primary use cases and have distinct features. The main difference is their approach to interactivity and web integration"
      ],
      "metadata": {
        "id": "ekpp6ec17v6V"
      }
    },
    {
      "cell_type": "markdown",
      "source": [
        "10.What is the significance of hierarchical indexing in Pandas?"
      ],
      "metadata": {
        "id": "s04DCvyW79AR"
      }
    },
    {
      "cell_type": "markdown",
      "source": [
        "->Hierarchical indexing, also known as MultiIndex, is a powerful feature in Pandas that allows us to have multiple levels of indexes on an axis. This provides a way to represent and work with higher-dimensional data in a two-dimensional DataFrame."
      ],
      "metadata": {
        "id": "nxvuxGDLyy59"
      }
    },
    {
      "cell_type": "markdown",
      "source": [
        "11.What is the role of Seaborn’s pairplot() function?"
      ],
      "metadata": {
        "id": "iKJ1fXVXzOai"
      }
    },
    {
      "cell_type": "markdown",
      "source": [
        "->The pairplot() function in Seaborn creates a grid of plots to visualize relationships and distributions within a dataset. Its primary role is to provide a quick and comprehensive overview of a dataset's pairwise relationships"
      ],
      "metadata": {
        "id": "LcSaHMHHzZvH"
      }
    },
    {
      "cell_type": "markdown",
      "source": [
        "12.What is the purpose of the describe() function in Pandas?"
      ],
      "metadata": {
        "id": "y1honSCxzdGH"
      }
    },
    {
      "cell_type": "markdown",
      "source": [
        "->The describe() function in Pandas is used to generate a descriptive summary of a DataFrame's numerical data. It provides a quick and convenient way to get a statistical overview of our data, helping you to understand its central tendency, dispersion, and shape."
      ],
      "metadata": {
        "id": "wmRusYvnzoHB"
      }
    },
    {
      "cell_type": "markdown",
      "source": [
        "13.Why is handling missing data important in Pandas?"
      ],
      "metadata": {
        "id": "qnx3GEt30KPm"
      }
    },
    {
      "cell_type": "markdown",
      "source": [
        "->Handling missing data in Pandas is crucial because it can significantly affect the accuracy and reliability of data analysis and machine learning models. Missing values, often represented as NaN (Not a Number), can lead to biased results, incorrect conclusions, and model failures.\n",
        "\n"
      ],
      "metadata": {
        "id": "lS6p-XkR0cHU"
      }
    },
    {
      "cell_type": "markdown",
      "source": [
        "14.What are the benefits of using Plotly for data visualization?"
      ],
      "metadata": {
        "id": "8rc3wCOB0de_"
      }
    },
    {
      "cell_type": "markdown",
      "source": [
        "->Plotly is highly beneficial for data visualization primarily because it creates interactive, web-based plots that are ideal for data exploration and sharing. Unlike static libraries like Matplotlib, Plotly allows users to directly engage with the data.\n",
        "\n",
        "\n"
      ],
      "metadata": {
        "id": "15LGP6sG0g2w"
      }
    },
    {
      "cell_type": "markdown",
      "source": [
        "15.How does NumPy handle multidimensional arrays?"
      ],
      "metadata": {
        "id": "QwlLT6Jk0p0O"
      }
    },
    {
      "cell_type": "markdown",
      "source": [
        "->NumPy handles multidimensional arrays using a core data structure called the ndarray (N-dimensional array). The ndarray is a highly efficient, homogeneous data container that stores all elements of the same data type in a contiguous block of memory"
      ],
      "metadata": {
        "id": "_ueKfFoC06xE"
      }
    },
    {
      "cell_type": "markdown",
      "source": [
        "16.What is the role of Bokeh in data visualization?"
      ],
      "metadata": {
        "id": "AzFGVCfp0-ek"
      }
    },
    {
      "cell_type": "markdown",
      "source": [
        "->Bokeh is a Python library for creating interactive visualizations for modern web browsers. Its primary role is to enable users to build complex, web-based plots and data applications without needing to write any JavaScript. It's especially useful for handling large or streaming datasets."
      ],
      "metadata": {
        "id": "ElAbQj-A1CBY"
      }
    },
    {
      "cell_type": "markdown",
      "source": [
        "17.Explain the difference between apply() and map() in Pandas?"
      ],
      "metadata": {
        "id": "C27nLcAp1MP4"
      }
    },
    {
      "cell_type": "markdown",
      "source": [
        "->map() Method\n",
        "The map() method is designed to work on a Pandas Series (a single column). It is used for element-wise transformations, meaning it applies a function or a dictionary to each individual element of the Series.\n",
        "\n",
        "->apply() Method\n",
        "\n",
        "The apply() method is more versatile and can be used on a DataFrame or a Series. It applies a function along an axis of a DataFrame, meaning it can operate on rows or columns as a whole."
      ],
      "metadata": {
        "id": "jWmBbQ_O1tNv"
      }
    },
    {
      "cell_type": "markdown",
      "source": [
        "18. What are some advanced features of NumPy?"
      ],
      "metadata": {
        "id": "CtJmAVtE2JS1"
      }
    },
    {
      "cell_type": "markdown",
      "source": [
        "->Some advanced features of NumPy include broadcasting, fancy indexing, and the ability to work with structured arrays. These features provide powerful and efficient ways to manipulate and analyze data, going beyond basic array operations.\n",
        "\n"
      ],
      "metadata": {
        "id": "lC637Le02ZYz"
      }
    },
    {
      "cell_type": "markdown",
      "source": [
        "19. How does Pandas simplify time series analysis?"
      ],
      "metadata": {
        "id": "3axcH0d_2hvX"
      }
    },
    {
      "cell_type": "markdown",
      "source": [
        "->Pandas simplifies time series analysis by providing specialized data structures and functions that make it easy to handle, manipulate, and analyze time-indexed data. Its core features are designed to handle the complexities of time series, such as irregular intervals, resampling, and rolling calculations"
      ],
      "metadata": {
        "id": "Z8O0AJUk2sEN"
      }
    },
    {
      "cell_type": "markdown",
      "source": [
        "20.What is the role of a pivot table in Pandas?"
      ],
      "metadata": {
        "id": "xBLMzDtl26VK"
      }
    },
    {
      "cell_type": "markdown",
      "source": [
        "->A pivot table in Pandas is a powerful data summarization tool that aggregates and reshapes a DataFrame. It is used to reorganize data by creating a new table with a different structure, making it easier to analyze and visualize"
      ],
      "metadata": {
        "id": "GO2sMNsR2-I-"
      }
    },
    {
      "cell_type": "markdown",
      "source": [
        "21.Why is NumPy’s array slicing faster than Python’s list slicing?"
      ],
      "metadata": {
        "id": "U3fANBZM3K5z"
      }
    },
    {
      "cell_type": "markdown",
      "source": [
        "->NumPy's array slicing is faster than Python's list slicing primarily because it creates a view of the original data rather than a full copy.\n",
        "\n"
      ],
      "metadata": {
        "id": "9xRnBjQR3TmN"
      }
    },
    {
      "cell_type": "markdown",
      "source": [
        "22.What are some common use cases for Seaborn?"
      ],
      "metadata": {
        "id": "WpcflztG3UxQ"
      }
    },
    {
      "cell_type": "markdown",
      "source": [
        "->Some common use cases for Seaborn include visualizing statistical relationships, exploring data distributions, and creating informative plots for categorical data."
      ],
      "metadata": {
        "id": "mtNV_b0M3YSl"
      }
    },
    {
      "cell_type": "markdown",
      "source": [
        "#PRACTICLE PROBLEMS"
      ],
      "metadata": {
        "id": "nvTKC7K93h2f"
      }
    },
    {
      "cell_type": "markdown",
      "source": [
        "1.How do you create a 2D NumPy array and calculate the sum of each row?"
      ],
      "metadata": {
        "id": "kZDrIpzt3oAv"
      }
    },
    {
      "cell_type": "code",
      "source": [
        "import numpy as np\n",
        "array_2d = np.array([[1, 2, 3],\n",
        "                     [4, 5, 6],\n",
        "                     [7, 8, 9]])\n",
        "row_sums = np.sum(array_2d, axis=1)\n",
        "print(\"Original 2D array:\")\n",
        "print(array_2d)\n",
        "print(\"\\nSum of each row:\")\n",
        "print(row_sums)"
      ],
      "metadata": {
        "colab": {
          "base_uri": "https://localhost:8080/"
        },
        "id": "xvLn28D13r_m",
        "outputId": "8db34685-ca41-4984-8f7c-5804978de6b8"
      },
      "execution_count": 1,
      "outputs": [
        {
          "output_type": "stream",
          "name": "stdout",
          "text": [
            "Original 2D array:\n",
            "[[1 2 3]\n",
            " [4 5 6]\n",
            " [7 8 9]]\n",
            "\n",
            "Sum of each row:\n",
            "[ 6 15 24]\n"
          ]
        }
      ]
    },
    {
      "cell_type": "markdown",
      "source": [
        "2.Write a Pandas script to find the mean of a specific column in a DataFrame?"
      ],
      "metadata": {
        "id": "wZkh5tzP4JIW"
      }
    },
    {
      "cell_type": "code",
      "source": [
        "import pandas as pd\n",
        "data = {'col1': [1, 2, 3, 4, 5],\n",
        "        'col2': [10, 20, 30, 40, 50]}\n",
        "df = pd.DataFrame(data)\n",
        "column_name = 'col1'\n",
        "column_mean = df[column_name].mean()\n",
        "print(\"Original DataFrame:\")\n",
        "print(df)\n",
        "print(f\"\\nMean of column '{column_name}':\")\n",
        "print(column_mean)"
      ],
      "metadata": {
        "colab": {
          "base_uri": "https://localhost:8080/"
        },
        "id": "dghz61WN4Wjd",
        "outputId": "36bee3f2-c2e9-47eb-c0d1-f7eef4e55265"
      },
      "execution_count": 2,
      "outputs": [
        {
          "output_type": "stream",
          "name": "stdout",
          "text": [
            "Original DataFrame:\n",
            "   col1  col2\n",
            "0     1    10\n",
            "1     2    20\n",
            "2     3    30\n",
            "3     4    40\n",
            "4     5    50\n",
            "\n",
            "Mean of column 'col1':\n",
            "3.0\n"
          ]
        }
      ]
    },
    {
      "cell_type": "markdown",
      "source": [
        "3.Create a scatter plot using Matplotlib?"
      ],
      "metadata": {
        "id": "Do33E8SA4l3U"
      }
    },
    {
      "cell_type": "code",
      "source": [
        "import matplotlib.pyplot as plt\n",
        "import pandas as pd\n",
        "data = {'col1': [1, 2, 3, 4, 5],\n",
        "        'col2': [10, 20, 30, 40, 50]}\n",
        "df = pd.DataFrame(data)\n",
        "plt.scatter(df['col1'], df['col2'])\n",
        "plt.xlabel('col1')\n",
        "plt.ylabel('col2')\n",
        "plt.title('Scatter Plot of col1 vs col2')\n",
        "plt.show()"
      ],
      "metadata": {
        "colab": {
          "base_uri": "https://localhost:8080/",
          "height": 472
        },
        "id": "e31q6SjC4rNh",
        "outputId": "336c2d8f-8be2-4aa0-dfd0-0542deb95af5"
      },
      "execution_count": 3,
      "outputs": [
        {
          "output_type": "display_data",
          "data": {
            "text/plain": [
              "<Figure size 640x480 with 1 Axes>"
            ],
            "image/png": "[encoded data removed]"
          },
          "metadata": {}
        }
      ]
    },
    {
      "cell_type": "markdown",
      "source": [
        "4.How do you calculate the correlation matrix using Seaborn and visualize it with a heatmap?"
      ],
      "metadata": {
        "id": "FzQdGZdH44ic"
      }
    },
    {
      "cell_type": "code",
      "source": [
        "import seaborn as sns\n",
        "import matplotlib.pyplot as plt\n",
        "import pandas as pd\n",
        "data = {'col1': [1, 2, 3, 4, 5],\n",
        "        'col2': [10, 20, 30, 40, 50],\n",
        "        'col3': [5, 4, 3, 2, 1]}\n",
        "df = pd.DataFrame(data)\n",
        "correlation_matrix = df.corr()\n",
        "plt.figure(figsize=(8, 6))\n",
        "sns.heatmap(correlation_matrix, annot=True, cmap='coolwarm', fmt=\".2f\")\n",
        "plt.title('Correlation Matrix Heatmap')\n",
        "plt.show()"
      ],
      "metadata": {
        "colab": {
          "base_uri": "https://localhost:8080/",
          "height": 545
        },
        "id": "Vh_pbu4w4_1L",
        "outputId": "9ca0d455-a6f4-4600-9ba8-a6f47277c83a"
      },
      "execution_count": 4,
      "outputs": [
        {
          "output_type": "display_data",
          "data": {
            "text/plain": [
              "<Figure size 800x600 with 2 Axes>"
            ],
            "image/png": "[encoded data removed]"
          },
          "metadata": {}
        }
      ]
    },
    {
      "cell_type": "markdown",
      "source": [
        "5.Generate a bar plot using Plotly?"
      ],
      "metadata": {
        "id": "gcLbbW5M5adp"
      }
    },
    {
      "cell_type": "code",
      "source": [
        "import plotly.express as px\n",
        "import pandas as pd\n",
        "data = {'Category': ['A', 'B', 'C', 'D', 'E'],\n",
        "        'Value': [40, 25, 35, 30, 45]}\n",
        "df = pd.DataFrame(data)\n",
        "fig = px.bar(df, x='Category', y='Value', title='Sample Bar Plot')\n",
        "fig.show()"
      ],
      "metadata": {
        "colab": {
          "base_uri": "https://localhost:8080/",
          "height": 542
        },
        "id": "MgaiY9Jy5etU",
        "outputId": "9b8f3d0b-ddfa-4bcc-a4d9-7d2b61a1be8d"
      },
      "execution_count": 7,
      "outputs": [
        {
          "output_type": "display_data",
          "data": {
            "text/html": [
              "<html>\n",
              "<head><meta charset=\"utf-8\" /></head>\n",
              "<body>\n",
              "    <div>            <script src=\"https://cdnjs.cloudflare.com/ajax/libs/mathjax/2.7.5/MathJax.js?config=TeX-AMS-MML_SVG\"></script><script type=\"text/javascript\">if (window.MathJax && window.MathJax.Hub && window.MathJax.Hub.Config) {window.MathJax.Hub.Config({SVG: {font: \"STIX-Web\"}});}</script>                <script type=\"text/javascript\">window.PlotlyConfig = {MathJaxConfig: 'local'};</script>\n",
              "        <script charset=\"utf-8\" src=\"https://cdn.plot.ly/plotly-2.35.2.min.js\"></script>                <div id=\"3e196b19-5703-4a67-9ece-d11ea284a8fc\" class=\"plotly-graph-div\" style=\"height:525px; width:100%;\"></div>            <script type=\"text/javascript\">                                    window.PLOTLYENV=window.PLOTLYENV || {};                                    if (document.getElementById(\"3e196b19-5703-4a67-9ece-d11ea284a8fc\")) {                    Plotly.newPlot(                        \"3e196b19-5703-4a67-9ece-d11ea284a8fc\",                        [{\"alignmentgroup\":\"True\",\"hovertemplate\":\"Category=%{x}\\u003cbr\\u003eValue=%{y}\\u003cextra\\u003e\\u003c\\u002fextra\\u003e\",\"legendgroup\":\"\",\"marker\":{\"color\":\"#636efa\",\"pattern\":{\"shape\":\"\"}},\"name\":\"\",\"offsetgroup\":\"\",\"orientation\":\"v\",\"showlegend\":false,\"textposition\":\"auto\",\"x\":[\"A\",\"B\",\"C\",\"D\",\"E\"],\"xaxis\":\"x\",\"y\":[40,25,35,30,45],\"yaxis\":\"y\",\"type\":\"bar\"}],                        {\"template\":{\"data\":{\"histogram2dcontour\":[{\"type\":\"histogram2dcontour\",\"colorbar\":{\"outlinewidth\":0,\"ticks\":\"\"},\"colorscale\":[[0.0,\"#0d0887\"],[0.1111111111111111,\"#46039f\"],[0.2222222222222222,\"#7201a8\"],[0.3333333333333333,\"#9c179e\"],[0.4444444444444444,\"#bd3786\"],[0.5555555555555556,\"#d8576b\"],[0.6666666666666666,\"#ed7953\"],[0.7777777777777778,\"#fb9f3a\"],[0.8888888888888888,\"#fdca26\"],[1.0,\"#f0f921\"]]}],\"choropleth\":[{\"type\":\"choropleth\",\"colorbar\":{\"outlinewidth\":0,\"ticks\":\"\"}}],\"histogram2d\":[{\"type\":\"histogram2d\",\"colorbar\":{\"outlinewidth\":0,\"ticks\":\"\"},\"colorscale\":[[0.0,\"#0d0887\"],[0.1111111111111111,\"#46039f\"],[0.2222222222222222,\"#7201a8\"],[0.3333333333333333,\"#9c179e\"],[0.4444444444444444,\"#bd3786\"],[0.5555555555555556,\"#d8576b\"],[0.6666666666666666,\"#ed7953\"],[0.7777777777777778,\"#fb9f3a\"],[0.8888888888888888,\"#fdca26\"],[1.0,\"#f0f921\"]]}],\"heatmap\":[{\"type\":\"heatmap\",\"colorbar\":{\"outlinewidth\":0,\"ticks\":\"\"},\"colorscale\":[[0.0,\"#0d0887\"],[0.1111111111111111,\"#46039f\"],[0.2222222222222222,\"#7201a8\"],[0.3333333333333333,\"#9c179e\"],[0.4444444444444444,\"#bd3786\"],[0.5555555555555556,\"#d8576b\"],[0.6666666666666666,\"#ed7953\"],[0.7777777777777778,\"#fb9f3a\"],[0.8888888888888888,\"#fdca26\"],[1.0,\"#f0f921\"]]}],\"heatmapgl\":[{\"type\":\"heatmapgl\",\"colorbar\":{\"outlinewidth\":0,\"ticks\":\"\"},\"colorscale\":[[0.0,\"#0d0887\"],[0.1111111111111111,\"#46039f\"],[0.2222222222222222,\"#7201a8\"],[0.3333333333333333,\"#9c179e\"],[0.4444444444444444,\"#bd3786\"],[0.5555555555555556,\"#d8576b\"],[0.6666666666666666,\"#ed7953\"],[0.7777777777777778,\"#fb9f3a\"],[0.8888888888888888,\"#fdca26\"],[1.0,\"#f0f921\"]]}],\"contourcarpet\":[{\"type\":\"contourcarpet\",\"colorbar\":{\"outlinewidth\":0,\"ticks\":\"\"}}],\"contour\":[{\"type\":\"contour\",\"colorbar\":{\"outlinewidth\":0,\"ticks\":\"\"},\"colorscale\":[[0.0,\"#0d0887\"],[0.1111111111111111,\"#46039f\"],[0.2222222222222222,\"#7201a8\"],[0.3333333333333333,\"#9c179e\"],[0.4444444444444444,\"#bd3786\"],[0.5555555555555556,\"#d8576b\"],[0.6666666666666666,\"#ed7953\"],[0.7777777777777778,\"#fb9f3a\"],[0.8888888888888888,\"#fdca26\"],[1.0,\"#f0f921\"]]}],\"surface\":[{\"type\":\"surface\",\"colorbar\":{\"outlinewidth\":0,\"ticks\":\"\"},\"colorscale\":[[0.0,\"#0d0887\"],[0.1111111111111111,\"#46039f\"],[0.2222222222222222,\"#7201a8\"],[0.3333333333333333,\"#9c179e\"],[0.4444444444444444,\"#bd3786\"],[0.5555555555555556,\"#d8576b\"],[0.6666666666666666,\"#ed7953\"],[0.7777777777777778,\"#fb9f3a\"],[0.8888888888888888,\"#fdca26\"],[1.0,\"#f0f921\"]]}],\"mesh3d\":[{\"type\":\"mesh3d\",\"colorbar\":{\"outlinewidth\":0,\"ticks\":\"\"}}],\"scatter\":[{\"fillpattern\":{\"fillmode\":\"overlay\",\"size\":10,\"solidity\":0.2},\"type\":\"scatter\"}],\"parcoords\":[{\"type\":\"parcoords\",\"line\":{\"colorbar\":{\"outlinewidth\":0,\"ticks\":\"\"}}}],\"scatterpolargl\":[{\"type\":\"scatterpolargl\",\"marker\":{\"colorbar\":{\"outlinewidth\":0,\"ticks\":\"\"}}}],\"bar\":[{\"error_x\":{\"color\":\"#2a3f5f\"},\"error_y\":{\"color\":\"#2a3f5f\"},\"marker\":{\"line\":{\"color\":\"#E5ECF6\",\"width\":0.5},\"pattern\":{\"fillmode\":\"overlay\",\"size\":10,\"solidity\":0.2}},\"type\":\"bar\"}],\"scattergeo\":[{\"type\":\"scattergeo\",\"marker\":{\"colorbar\":{\"outlinewidth\":0,\"ticks\":\"\"}}}],\"scatterpolar\":[{\"type\":\"scatterpolar\",\"marker\":{\"colorbar\":{\"outlinewidth\":0,\"ticks\":\"\"}}}],\"histogram\":[{\"marker\":{\"pattern\":{\"fillmode\":\"overlay\",\"size\":10,\"solidity\":0.2}},\"type\":\"histogram\"}],\"scattergl\":[{\"type\":\"scattergl\",\"marker\":{\"colorbar\":{\"outlinewidth\":0,\"ticks\":\"\"}}}],\"scatter3d\":[{\"type\":\"scatter3d\",\"line\":{\"colorbar\":{\"outlinewidth\":0,\"ticks\":\"\"}},\"marker\":{\"colorbar\":{\"outlinewidth\":0,\"ticks\":\"\"}}}],\"scattermapbox\":[{\"type\":\"scattermapbox\",\"marker\":{\"colorbar\":{\"outlinewidth\":0,\"ticks\":\"\"}}}],\"scatterternary\":[{\"type\":\"scatterternary\",\"marker\":{\"colorbar\":{\"outlinewidth\":0,\"ticks\":\"\"}}}],\"scattercarpet\":[{\"type\":\"scattercarpet\",\"marker\":{\"colorbar\":{\"outlinewidth\":0,\"ticks\":\"\"}}}],\"carpet\":[{\"aaxis\":{\"endlinecolor\":\"#2a3f5f\",\"gridcolor\":\"white\",\"linecolor\":\"white\",\"minorgridcolor\":\"white\",\"startlinecolor\":\"#2a3f5f\"},\"baxis\":{\"endlinecolor\":\"#2a3f5f\",\"gridcolor\":\"white\",\"linecolor\":\"white\",\"minorgridcolor\":\"white\",\"startlinecolor\":\"#2a3f5f\"},\"type\":\"carpet\"}],\"table\":[{\"cells\":{\"fill\":{\"color\":\"#EBF0F8\"},\"line\":{\"color\":\"white\"}},\"header\":{\"fill\":{\"color\":\"#C8D4E3\"},\"line\":{\"color\":\"white\"}},\"type\":\"table\"}],\"barpolar\":[{\"marker\":{\"line\":{\"color\":\"#E5ECF6\",\"width\":0.5},\"pattern\":{\"fillmode\":\"overlay\",\"size\":10,\"solidity\":0.2}},\"type\":\"barpolar\"}],\"pie\":[{\"automargin\":true,\"type\":\"pie\"}]},\"layout\":{\"autotypenumbers\":\"strict\",\"colorway\":[\"#636efa\",\"#EF553B\",\"#00cc96\",\"#ab63fa\",\"#FFA15A\",\"#19d3f3\",\"#FF6692\",\"#B6E880\",\"#FF97FF\",\"#FECB52\"],\"font\":{\"color\":\"#2a3f5f\"},\"hovermode\":\"closest\",\"hoverlabel\":{\"align\":\"left\"},\"paper_bgcolor\":\"white\",\"plot_bgcolor\":\"#E5ECF6\",\"polar\":{\"bgcolor\":\"#E5ECF6\",\"angularaxis\":{\"gridcolor\":\"white\",\"linecolor\":\"white\",\"ticks\":\"\"},\"radialaxis\":{\"gridcolor\":\"white\",\"linecolor\":\"white\",\"ticks\":\"\"}},\"ternary\":{\"bgcolor\":\"#E5ECF6\",\"aaxis\":{\"gridcolor\":\"white\",\"linecolor\":\"white\",\"ticks\":\"\"},\"baxis\":{\"gridcolor\":\"white\",\"linecolor\":\"white\",\"ticks\":\"\"},\"caxis\":{\"gridcolor\":\"white\",\"linecolor\":\"white\",\"ticks\":\"\"}},\"coloraxis\":{\"colorbar\":{\"outlinewidth\":0,\"ticks\":\"\"}},\"colorscale\":{\"sequential\":[[0.0,\"#0d0887\"],[0.1111111111111111,\"#46039f\"],[0.2222222222222222,\"#7201a8\"],[0.3333333333333333,\"#9c179e\"],[0.4444444444444444,\"#bd3786\"],[0.5555555555555556,\"#d8576b\"],[0.6666666666666666,\"#ed7953\"],[0.7777777777777778,\"#fb9f3a\"],[0.8888888888888888,\"#fdca26\"],[1.0,\"#f0f921\"]],\"sequentialminus\":[[0.0,\"#0d0887\"],[0.1111111111111111,\"#46039f\"],[0.2222222222222222,\"#7201a8\"],[0.3333333333333333,\"#9c179e\"],[0.4444444444444444,\"#bd3786\"],[0.5555555555555556,\"#d8576b\"],[0.6666666666666666,\"#ed7953\"],[0.7777777777777778,\"#fb9f3a\"],[0.8888888888888888,\"#fdca26\"],[1.0,\"#f0f921\"]],\"diverging\":[[0,\"#8e0152\"],[0.1,\"#c51b7d\"],[0.2,\"#de77ae\"],[0.3,\"#f1b6da\"],[0.4,\"#fde0ef\"],[0.5,\"#f7f7f7\"],[0.6,\"#e6f5d0\"],[0.7,\"#b8e186\"],[0.8,\"#7fbc41\"],[0.9,\"#4d9221\"],[1,\"#276419\"]]},\"xaxis\":{\"gridcolor\":\"white\",\"linecolor\":\"white\",\"ticks\":\"\",\"title\":{\"standoff\":15},\"zerolinecolor\":\"white\",\"automargin\":true,\"zerolinewidth\":2},\"yaxis\":{\"gridcolor\":\"white\",\"linecolor\":\"white\",\"ticks\":\"\",\"title\":{\"standoff\":15},\"zerolinecolor\":\"white\",\"automargin\":true,\"zerolinewidth\":2},\"scene\":{\"xaxis\":{\"backgroundcolor\":\"#E5ECF6\",\"gridcolor\":\"white\",\"linecolor\":\"white\",\"showbackground\":true,\"ticks\":\"\",\"zerolinecolor\":\"white\",\"gridwidth\":2},\"yaxis\":{\"backgroundcolor\":\"#E5ECF6\",\"gridcolor\":\"white\",\"linecolor\":\"white\",\"showbackground\":true,\"ticks\":\"\",\"zerolinecolor\":\"white\",\"gridwidth\":2},\"zaxis\":{\"backgroundcolor\":\"#E5ECF6\",\"gridcolor\":\"white\",\"linecolor\":\"white\",\"showbackground\":true,\"ticks\":\"\",\"zerolinecolor\":\"white\",\"gridwidth\":2}},\"shapedefaults\":{\"line\":{\"color\":\"#2a3f5f\"}},\"annotationdefaults\":{\"arrowcolor\":\"#2a3f5f\",\"arrowhead\":0,\"arrowwidth\":1},\"geo\":{\"bgcolor\":\"white\",\"landcolor\":\"#E5ECF6\",\"subunitcolor\":\"white\",\"showland\":true,\"showlakes\":true,\"lakecolor\":\"white\"},\"title\":{\"x\":0.05},\"mapbox\":{\"style\":\"light\"}}},\"xaxis\":{\"anchor\":\"y\",\"domain\":[0.0,1.0],\"title\":{\"text\":\"Category\"}},\"yaxis\":{\"anchor\":\"x\",\"domain\":[0.0,1.0],\"title\":{\"text\":\"Value\"}},\"legend\":{\"tracegroupgap\":0},\"title\":{\"text\":\"Sample Bar Plot\"},\"barmode\":\"relative\"},                        {\"responsive\": true}                    ).then(function(){\n",
              "                            \n",
              "var gd = document.getElementById('3e196b19-5703-4a67-9ece-d11ea284a8fc');\n",
              "var x = new MutationObserver(function (mutations, observer) {{\n",
              "        var display = window.getComputedStyle(gd).display;\n",
              "        if (!display || display === 'none') {{\n",
              "            console.log([gd, 'removed!']);\n",
              "            Plotly.purge(gd);\n",
              "            observer.disconnect();\n",
              "        }}\n",
              "}});\n",
              "\n",
              "// Listen for the removal of the full notebook cells\n",
              "var notebookContainer = gd.closest('#notebook-container');\n",
              "if (notebookContainer) {{\n",
              "    x.observe(notebookContainer, {childList: true});\n",
              "}}\n",
              "\n",
              "// Listen for the clearing of the current output cell\n",
              "var outputEl = gd.closest('.output');\n",
              "if (outputEl) {{\n",
              "    x.observe(outputEl, {childList: true});\n",
              "}}\n",
              "\n",
              "                        })                };                            </script>        </div>\n",
              "</body>\n",
              "</html>"
            ]
          },
          "metadata": {}
        }
      ]
    },
    {
      "cell_type": "markdown",
      "source": [
        "6.Create a DataFrame and add a new column based on an existing column"
      ],
      "metadata": {
        "id": "NpfOPRfd6KT5"
      }
    },
    {
      "cell_type": "code",
      "source": [
        "import pandas as pd\n",
        "data = {'col1': [1, 2, 3, 4, 5],\n",
        "        'col2': [10, 20, 30, 40, 50]}\n",
        "df = pd.DataFrame(data)\n",
        "df['col3'] = df['col1'] * 2\n",
        "print(\"DataFrame with new column:\")\n",
        "print(df)"
      ],
      "metadata": {
        "colab": {
          "base_uri": "https://localhost:8080/"
        },
        "id": "Nhdqbvvd6O2O",
        "outputId": "15e5c9c8-bcdf-475c-8618-8d9f955c8032"
      },
      "execution_count": 8,
      "outputs": [
        {
          "output_type": "stream",
          "name": "stdout",
          "text": [
            "DataFrame with new column:\n",
            "   col1  col2  col3\n",
            "0     1    10     2\n",
            "1     2    20     4\n",
            "2     3    30     6\n",
            "3     4    40     8\n",
            "4     5    50    10\n"
          ]
        }
      ]
    },
    {
      "cell_type": "markdown",
      "source": [
        "7.Write a program to perform element-wise multiplication of two NumPy arrays?"
      ],
      "metadata": {
        "id": "90MiVH4U67iX"
      }
    },
    {
      "cell_type": "code",
      "source": [
        "import numpy as np\n",
        "array1 = np.array([1, 2, 3, 4, 5])\n",
        "array2 = np.array([10, 20, 30, 40, 50])\n",
        "result_array = array1 * array2\n",
        "print(\"Array 1:\")\n",
        "print(array1)\n",
        "print(\"\\nArray 2:\")\n",
        "print(array2)\n",
        "print(\"\\nResult of element-wise multiplication:\")\n",
        "print(result_array)"
      ],
      "metadata": {
        "colab": {
          "base_uri": "https://localhost:8080/"
        },
        "id": "i3-FiKiY6_up",
        "outputId": "c09200ff-2cfb-4c1e-95a9-ca62dc60da11"
      },
      "execution_count": 9,
      "outputs": [
        {
          "output_type": "stream",
          "name": "stdout",
          "text": [
            "Array 1:\n",
            "[1 2 3 4 5]\n",
            "\n",
            "Array 2:\n",
            "[10 20 30 40 50]\n",
            "\n",
            "Result of element-wise multiplication:\n",
            "[ 10  40  90 160 250]\n"
          ]
        }
      ]
    },
    {
      "cell_type": "markdown",
      "source": [
        "8.Create a line plot with multiple lines using Matplotlib?"
      ],
      "metadata": {
        "id": "UATx5vcf7KPr"
      }
    },
    {
      "cell_type": "code",
      "source": [
        "import matplotlib.pyplot as plt\n",
        "import numpy as np\n",
        "x = np.array([1, 2, 3, 4, 5, 6, 7, 8])\n",
        "y1 = np.array([2, 4, 6, 8, 10, 15, 10, 25])\n",
        "y2 = np.array([1, 3, 5, 7, 9,14, 15, 19])\n",
        "y3 = np.array([5, 2, 7, 3, 9, 1, 8, 9])\n",
        "plt.plot(x, y1, label='Line 1')\n",
        "plt.plot(x, y2, label='Line 2')\n",
        "plt.plot(x, y3, label='Line 3')\n",
        "plt.xlabel('X-axis')\n",
        "plt.ylabel('Y-axis')\n",
        "plt.title('Line Plot with Multiple Lines')\n",
        "plt.legend()\n",
        "plt.show()"
      ],
      "metadata": {
        "colab": {
          "base_uri": "https://localhost:8080/",
          "height": 472
        },
        "id": "A8D_T1cP7QAx",
        "outputId": "fb2cc32d-330f-49ec-8a0c-8d932acf66c6"
      },
      "execution_count": 11,
      "outputs": [
        {
          "output_type": "display_data",
          "data": {
            "text/plain": [
              "<Figure size 640x480 with 1 Axes>"
            ],
            "image/png": "[encoded data removed]"
          },
          "metadata": {}
        }
      ]
    },
    {
      "cell_type": "markdown",
      "source": [
        "9.Generate a Pandas DataFrame and filter rows where a column value is greater than a threshold?"
      ],
      "metadata": {
        "id": "9v31971x767U"
      }
    },
    {
      "cell_type": "code",
      "source": [
        "import pandas as pd\n",
        "data = {'col1': [10, 25, 15, 30, 20],\n",
        "        'col2': ['A', 'B', 'C', 'D', 'E']}\n",
        "df = pd.DataFrame(data)\n",
        "column_to_filter = 'col1'\n",
        "threshold = 20\n",
        "filtered_df = df[df[column_to_filter] > threshold]\n",
        "print(\"Original DataFrame:\")\n",
        "print(df)\n",
        "print(f\"\\nFiltered DataFrame (where '{column_to_filter}' > {threshold}):\")\n",
        "print(filtered_df)"
      ],
      "metadata": {
        "colab": {
          "base_uri": "https://localhost:8080/"
        },
        "id": "M-VuwJzk7-Ot",
        "outputId": "8d99168c-366f-4349-8aa1-85205184e9e7"
      },
      "execution_count": 12,
      "outputs": [
        {
          "output_type": "stream",
          "name": "stdout",
          "text": [
            "Original DataFrame:\n",
            "   col1 col2\n",
            "0    10    A\n",
            "1    25    B\n",
            "2    15    C\n",
            "3    30    D\n",
            "4    20    E\n",
            "\n",
            "Filtered DataFrame (where 'col1' > 20):\n",
            "   col1 col2\n",
            "1    25    B\n",
            "3    30    D\n"
          ]
        }
      ]
    },
    {
      "cell_type": "markdown",
      "source": [
        "10.Create a histogram using Seaborn to visualize a distribution?"
      ],
      "metadata": {
        "id": "YvSwdqRt8Klt"
      }
    },
    {
      "cell_type": "code",
      "source": [
        "import seaborn as sns\n",
        "import matplotlib.pyplot as plt\n",
        "import pandas as pd\n",
        "import numpy as np\n",
        "data = {'values': np.random.randn(1000)}\n",
        "df = pd.DataFrame(data)\n",
        "sns.histplot(data=df, x='values', kde=True)\n",
        "plt.title('Distribution of Values')\n",
        "plt.show()"
      ],
      "metadata": {
        "colab": {
          "base_uri": "https://localhost:8080/",
          "height": 472
        },
        "id": "DKMrsCx_8_ga",
        "outputId": "a1e2768c-4f29-4c24-808c-2111e9ef9392"
      },
      "execution_count": 15,
      "outputs": [
        {
          "output_type": "display_data",
          "data": {
            "text/plain": [
              "<Figure size 640x480 with 1 Axes>"
            ],
            "image/png": "[encoded data removed]"
          },
          "metadata": {}
        }
      ]
    },
    {
      "cell_type": "markdown",
      "source": [
        "11.Perform matrix multiplication using NumPy?"
      ],
      "metadata": {
        "id": "imMlxmyS9Pa-"
      }
    },
    {
      "cell_type": "code",
      "source": [
        "import numpy as np\n",
        "matrix1 = np.array([[1, 2],\n",
        "                    [3, 4]])\n",
        "matrix2 = np.array([[5, 6],\n",
        "                    [7, 8]])\n",
        "result_matrix = np.dot(matrix1, matrix2)\n",
        "print(\"Matrix 1:\")\n",
        "print(matrix1)\n",
        "print(\"\\nMatrix 2:\")\n",
        "print(matrix2)\n",
        "print(\"\\nResult of matrix multiplication:\")\n",
        "print(result_matrix)"
      ],
      "metadata": {
        "colab": {
          "base_uri": "https://localhost:8080/"
        },
        "id": "AYE8Mbij9TQ6",
        "outputId": "26c6e407-1744-4c6c-b959-9abb5edc0168"
      },
      "execution_count": 16,
      "outputs": [
        {
          "output_type": "stream",
          "name": "stdout",
          "text": [
            "Matrix 1:\n",
            "[[1 2]\n",
            " [3 4]]\n",
            "\n",
            "Matrix 2:\n",
            "[[5 6]\n",
            " [7 8]]\n",
            "\n",
            "Result of matrix multiplication:\n",
            "[[19 22]\n",
            " [43 50]]\n"
          ]
        }
      ]
    },
    {
      "cell_type": "markdown",
      "source": [
        "12.Use Pandas to load a CSV file and display its first 5 rows?"
      ],
      "metadata": {
        "id": "4bQFy8kL9eAd"
      }
    },
    {
      "cell_type": "code",
      "source": [
        "import pandas as pd\n",
        "try:\n",
        "    df = pd.read_csv('your_file.csv')\n",
        "    print(\"First 5 rows of the DataFrame:\")\n",
        "    print(df.head())\n",
        "\n",
        "except FileNotFoundError:\n",
        "    print(\"Error: 'your_file.csv' not found. Please make sure the file exists and the path is correct.\")\n",
        "except Exception as e:\n",
        "    print(f\"An error occurred: {e}\")"
      ],
      "metadata": {
        "colab": {
          "base_uri": "https://localhost:8080/"
        },
        "id": "At4UEoEN9wqL",
        "outputId": "df03ba58-5ea2-4e2a-fb32-3c3f8fec1fd1"
      },
      "execution_count": 17,
      "outputs": [
        {
          "output_type": "stream",
          "name": "stdout",
          "text": [
            "Error: 'your_file.csv' not found. Please make sure the file exists and the path is correct.\n"
          ]
        }
      ]
    },
    {
      "cell_type": "markdown",
      "source": [
        "13.Create a 3D scatter plot using Plotly?"
      ],
      "metadata": {
        "id": "Xuj6iAFT-F5o"
      }
    },
    {
      "cell_type": "code",
      "source": [
        "import plotly.express as px\n",
        "import pandas as pd\n",
        "import numpy as np\n",
        "data = {'x': np.random.rand(100),\n",
        "        'y': np.random.rand(100),\n",
        "        'z': np.random.rand(100),\n",
        "        'size': np.random.rand(100) * 30,\n",
        "        'color': np.random.rand(100)}\n",
        "df = pd.DataFrame(data)\n",
        "fig = px.scatter_3d(df, x='x', y='y', z='z',\n",
        "                    size='size', color='color',\n",
        "                    title='Sample 3D Scatter Plot')\n",
        "fig.show()"
      ],
      "metadata": {
        "colab": {
          "base_uri": "https://localhost:8080/",
          "height": 542
        },
        "id": "LOpNNA0P-Jy8",
        "outputId": "cfbea69f-eee4-4b69-8fa7-65e49249926e"
      },
      "execution_count": 18,
      "outputs": [
        {
          "output_type": "display_data",
          "data": {
            "text/html": [
              "<html>\n",
              "<head><meta charset=\"utf-8\" /></head>\n",
              "<body>\n",
              "    <div>            <script src=\"https://cdnjs.cloudflare.com/ajax/libs/mathjax/2.7.5/MathJax.js?config=TeX-AMS-MML_SVG\"></script><script type=\"text/javascript\">if (window.MathJax && window.MathJax.Hub && window.MathJax.Hub.Config) {window.MathJax.Hub.Config({SVG: {font: \"STIX-Web\"}});}</script>                <script type=\"text/javascript\">window.PlotlyConfig = {MathJaxConfig: 'local'};</script>\n",
              "        <script charset=\"utf-8\" src=\"https://cdn.plot.ly/plotly-2.35.2.min.js\"></script>                <div id=\"b385ee92-6f96-4f19-bcb8-0245a7ba1797\" class=\"plotly-graph-div\" style=\"height:525px; width:100%;\"></div>            <script type=\"text/javascript\">                                    window.PLOTLYENV=window.PLOTLYENV || {};                                    if (document.getElementById(\"b385ee92-6f96-4f19-bcb8-0245a7ba1797\")) {                    Plotly.newPlot(                        \"b385ee92-6f96-4f19-bcb8-0245a7ba1797\",                        [{\"hovertemplate\":\"x=%{x}\\u003cbr\\u003ey=%{y}\\u003cbr\\u003ez=%{z}\\u003cbr\\u003esize=%{marker.size}\\u003cbr\\u003ecolor=%{marker.color}\\u003cextra\\u003e\\u003c\\u002fextra\\u003e\",\"legendgroup\":\"\",\"marker\":{\"color\":[0.37321974780871503,0.16259151339890898,0.8007437233923956,0.42369227225963335,0.02537228280946191,0.005257797464262692,0.5554666009238916,0.05921071362590313,0.796606791004367,0.3283360562695271,0.5789589934258622,0.9742279718164348,0.4996412943857991,0.9870739851226836,0.6742372477603693,0.37133161926378233,0.5578347706736417,0.2558551486284152,0.12217411013811819,0.40650182722259354,0.5111338249111834,0.25652768174038454,0.13553835661088598,0.7413062829285456,0.8429155032892851,0.5372891703701465,0.5852360177848408,0.6992217771022038,0.19840238027461643,0.6742574924827935,0.9940874091896981,0.02630912644872363,0.9811815531121141,0.6167240663236223,0.9785523896792823,0.034743620201453274,0.07872974592280813,0.9402964838657306,0.02697250513572902,0.09703991666628486,0.2893407148158339,0.5685109420904443,0.45456045043052173,0.7679941552925402,0.7878788446451751,0.5802064506549844,0.8805425540480828,0.5595143348468781,0.09897139556283996,0.6465963207878287,0.14972317735609242,0.8809291332780199,0.1482271598789725,0.41268820600380274,0.7015311133664882,0.44297146597264603,0.5041595543268345,0.34895767922669296,0.9122815603809319,0.7998962336386926,0.44407966132905996,0.033371118309980075,0.3843032214290165,0.1392609591963434,0.252201480833506,0.9488181887250419,0.4339904583403835,0.7455429935017635,0.6419245836362735,0.1443574115364361,0.8666742922959357,0.7536139335569068,0.5756675398493207,0.7120667688994511,0.22093253095516863,0.8165488152184842,0.4833848431419383,0.6293185632458811,0.5804532974384431,0.9007293843847742,0.10834674773862685,0.33498317213233864,0.2818202786108457,0.233221582233903,0.3925748361495992,0.7671781231032042,0.300564865991254,0.17876549901653316,0.32196862542677884,0.3303253047969583,0.0674542173047965,0.5662737591247327,0.6868287538843332,0.11291913901509554,0.07600752485951934,0.07172920349333378,0.42444538195931325,0.7074919926377745,0.7412016366767246,0.5917456496115691],\"coloraxis\":\"coloraxis\",\"size\":[0.08270261932151524,1.9892144468397333,29.597723194784308,2.010724955744644,2.9522621869683876,4.621756917638571,13.001530033827738,9.08000252709785,9.61804827025002,25.14407405446853,6.932298166284645,3.2345358943444036,29.01804058094461,9.406452860238272,8.407071688494757,23.500906868245746,0.12496492639239465,9.161760349917275,11.830742004050542,7.989325417903263,0.5191356563464489,28.702778321814407,17.875277548254513,16.879945793448783,19.57143871381328,16.101537711417002,12.73407785906299,21.680798821060154,2.5572098841828184,10.661566045848081,1.3322235431786944,28.393079503580676,24.686356186515546,15.351334504259487,10.60938543207412,29.538178867191615,1.148249549098146,14.529253454166543,29.64809790303466,20.49830677503799,7.39093219383072,9.891464823216754,17.656856305283164,6.250780360284632,10.072758659037099,16.848981569080678,14.07107707144719,23.022566814757937,28.324651782402984,29.732239343494257,14.503002468732676,4.584153596178484,17.913757936657156,5.793581856502215,23.146873485172907,22.246102253036756,18.43341931191762,22.99845810860684,7.345995809080952,25.297465572834373,8.017876564810576,14.777578638215337,10.203066510460953,16.64000313005695,24.975653188125822,9.05244603711106,20.827798138135044,6.927297823921884,13.546984901134559,26.960387313193692,4.521799560012867,23.215595932841484,3.7300850771943415,15.807307171131658,3.4220468214558855,14.89355671543893,0.9213579887617462,11.658336787837817,3.912707838284708,11.640287765240087,12.492952039190353,19.064162283828257,15.06514906703818,7.623644855008535,29.325676424776766,29.21218130987277,0.026389023785216015,6.842888368122731,23.997053822676605,6.4733939375685825,2.1587234222006826,0.11436339343113056,26.50824469162369,18.4360296944214,29.098995685586665,24.369066375925808,12.501004044453012,8.029364880971485,13.083333298783398,20.78511778549523],\"sizemode\":\"area\",\"sizeref\":0.07433059835873564,\"symbol\":\"circle\"},\"mode\":\"markers\",\"name\":\"\",\"scene\":\"scene\",\"showlegend\":false,\"x\":[0.20241500956273661,0.2903505225467553,0.9693114885527259,0.7449715503519272,0.24331540003708985,0.04319671994907459,0.5451041539291642,0.24442249829280727,0.1733508946647856,0.9533606848534955,0.067074054058201,0.9781023366877492,0.5766812643465605,0.451277365975678,0.3233338539292092,0.01533953875366545,0.2229202068350994,0.6037048409686554,0.423581758968674,0.723122775543431,0.7055872888334556,0.9635730780923445,0.4540945790114729,0.5506327184968832,0.5126118738141825,0.34785436236606493,0.4226373939634638,0.5945373322876454,0.5058140879110375,0.512038673125608,0.4889013474227869,0.18400953146983234,0.8057524362126021,0.11108280975867046,0.7722580058969291,0.5222753747376425,0.9099850757643424,0.18897086630015092,0.5743330417222484,0.8673677914263921,0.7098616991322482,0.7679792760535523,0.5760616732442583,0.6238373862000394,0.3523040907518965,0.12870362983226746,0.8042336939084895,0.5338102064116038,0.13833370404290146,0.1288877521698094,0.07453740366899086,0.2796185765953252,0.7152397985833417,0.9727684376146127,0.5343255494887094,0.4607679514735038,0.48210322373933356,0.293536068194988,0.7995967262201327,0.7146428180776185,0.19794139487674767,0.8129308066538374,0.9095751393893352,0.5788173913985635,0.3973572474377909,0.851335109819603,0.3341246104154628,0.2245416306562159,0.8396606567093796,0.0012739397860771495,0.3486684756273133,0.8658739482117784,0.1941352435603535,0.2952159443035389,0.7908700527717483,0.639926494777826,0.5954914190880383,0.036832271590708565,0.0038343231145466783,0.8997310316349674,0.7214488254226916,0.6826958287882703,0.492466519954151,0.8869704494468279,0.8105627795724122,0.9350343126697208,0.7418785872491883,0.7324212080814864,0.706538247155685,0.554328309825328,0.22117849476569196,0.22437265632393844,0.19283504889017877,0.9302499040661018,0.7692030234346612,0.8106559161241733,0.3003318680950062,0.8563396837668994,0.7580610961848988,0.93958178054063],\"y\":[0.8290620027279327,0.11301296034653163,0.7589122319677276,0.11638593967376709,0.8483119230542062,0.06669837964331826,0.22504613637690873,0.20418350897564652,0.8101752814669703,0.864247325692819,0.9927008015814801,0.6187319653783714,0.1556431114253144,0.43226818119829535,0.9198850466480903,0.40262368760982836,0.5469059419937364,0.30414049113074393,0.08646877366339667,0.5749550951400391,0.26733067598997884,0.5694961760168635,0.41370673231610766,0.22898469608238747,0.35022853865672665,0.5551506908433814,0.3072708443239891,0.37148777320419724,0.8127819483560483,0.020294931495184465,0.9093879621808291,0.21207968528815724,0.5617293954353882,0.7373370655895564,0.19817883619730126,0.6384039116594242,0.07720192634882128,0.8171159322683088,0.8118482809196803,0.5815304722637897,0.8778050469927426,0.15956376895301094,0.3758989286770076,0.6010182120488197,0.9486680121129906,0.7954765571754245,0.21556544278591716,0.4746219001307038,0.5216292761390102,0.05910890121231527,0.3321373337757134,0.21227773281469253,0.06055933826357818,0.6825080402295416,0.7204819699665838,0.31255950342987426,0.9341521502106919,0.36813073029870036,0.9455640730652211,0.03284467059617979,0.7239856698188707,0.5730405325541656,0.22513127856050819,0.583657334027899,0.568674488029029,0.6797865009948951,0.15009988452852474,0.47760004463978867,0.6947566171316047,0.42861894356228414,0.074096043769171,0.8386405647078866,0.5219398493683628,0.48010592261729435,0.4835643245995881,0.22074779528445598,0.2794992745396454,0.38173905941858643,0.2159167353037974,0.6409899892527452,0.05206104258225497,0.05518189856636513,0.006645598413729248,0.48200587608206,0.008508593714423585,0.5390375463209353,0.2013438837611089,0.39531733882943365,0.012624699054240462,0.6447736011166081,0.3332325432011325,0.6607433078561535,0.6082364070561052,0.6110272384256187,0.23618439720109352,0.3169814769662973,0.4413934590099974,0.6715552445075379,0.38966175734474917,0.2754727610217912],\"z\":[0.8275057867769484,0.14540228446452097,0.029969353772869134,0.19199705561596836,0.9977268987058835,0.334568326143169,0.6338318532309093,0.17705597619195645,0.36483550421675437,0.9370984166852543,0.3440309581490507,0.6555623098024219,0.6241838551068145,0.457545675060535,0.7286453062743925,0.7490681783854617,0.2944844704669425,0.5111926628052564,0.9452202963937295,0.23877722780492394,0.2989755688075454,0.5969847632391454,0.8424924111815475,0.7375620417208588,0.4587794113343273,0.20838398221099985,0.533324660861822,0.5035706019595046,0.8364853293389619,0.2820589194112135,0.7777495748690728,0.4398249185263746,0.380973477953647,0.9834273374269807,0.11191207571846662,0.4946482076646286,0.5362904976798126,0.2168224088871138,0.22704167561631527,0.31067174099114037,0.44184811602028295,0.22825727318471611,0.05393220158384748,0.09394067386512395,0.39476244452658593,0.6779479632959337,0.8444059173608027,0.5965554650099634,0.8723348451084424,0.5710179722519253,0.17155201660987396,0.2015771948522741,0.46875959388284616,0.9459980886937837,0.14293019153047715,0.21259253660322397,0.188404614233727,0.23864221820515785,0.5922776287517872,0.004729738128143035,0.7563531354421659,0.877867655974964,0.9350693499358972,0.9806817199628508,0.038524027730423516,0.35663976549693377,0.8698410155689646,0.8942387460300981,0.9318121362336803,0.6484753525489115,0.07955399542982922,0.7341845861787014,0.3799456784323174,0.24592243718863127,0.787736551037242,0.4962176434778184,0.4296304518917131,0.1820909056136052,0.5546660302284155,0.4347728997156013,0.09672481918923281,0.959586530205251,0.6019733643984846,0.5127922869271724,0.6885546090884478,0.5384745047153455,0.8192402289236006,0.8033352394655497,0.2663155664566247,0.967947342898761,0.011412752769694556,0.4483086493256294,0.7956038183442107,0.8379446423760555,0.18938930672769505,0.8986087120223547,0.705984212849796,0.9080057271747229,0.9941365038738179,0.355323316738571],\"type\":\"scatter3d\"}],                        {\"template\":{\"data\":{\"histogram2dcontour\":[{\"type\":\"histogram2dcontour\",\"colorbar\":{\"outlinewidth\":0,\"ticks\":\"\"},\"colorscale\":[[0.0,\"#0d0887\"],[0.1111111111111111,\"#46039f\"],[0.2222222222222222,\"#7201a8\"],[0.3333333333333333,\"#9c179e\"],[0.4444444444444444,\"#bd3786\"],[0.5555555555555556,\"#d8576b\"],[0.6666666666666666,\"#ed7953\"],[0.7777777777777778,\"#fb9f3a\"],[0.8888888888888888,\"#fdca26\"],[1.0,\"#f0f921\"]]}],\"choropleth\":[{\"type\":\"choropleth\",\"colorbar\":{\"outlinewidth\":0,\"ticks\":\"\"}}],\"histogram2d\":[{\"type\":\"histogram2d\",\"colorbar\":{\"outlinewidth\":0,\"ticks\":\"\"},\"colorscale\":[[0.0,\"#0d0887\"],[0.1111111111111111,\"#46039f\"],[0.2222222222222222,\"#7201a8\"],[0.3333333333333333,\"#9c179e\"],[0.4444444444444444,\"#bd3786\"],[0.5555555555555556,\"#d8576b\"],[0.6666666666666666,\"#ed7953\"],[0.7777777777777778,\"#fb9f3a\"],[0.8888888888888888,\"#fdca26\"],[1.0,\"#f0f921\"]]}],\"heatmap\":[{\"type\":\"heatmap\",\"colorbar\":{\"outlinewidth\":0,\"ticks\":\"\"},\"colorscale\":[[0.0,\"#0d0887\"],[0.1111111111111111,\"#46039f\"],[0.2222222222222222,\"#7201a8\"],[0.3333333333333333,\"#9c179e\"],[0.4444444444444444,\"#bd3786\"],[0.5555555555555556,\"#d8576b\"],[0.6666666666666666,\"#ed7953\"],[0.7777777777777778,\"#fb9f3a\"],[0.8888888888888888,\"#fdca26\"],[1.0,\"#f0f921\"]]}],\"heatmapgl\":[{\"type\":\"heatmapgl\",\"colorbar\":{\"outlinewidth\":0,\"ticks\":\"\"},\"colorscale\":[[0.0,\"#0d0887\"],[0.1111111111111111,\"#46039f\"],[0.2222222222222222,\"#7201a8\"],[0.3333333333333333,\"#9c179e\"],[0.4444444444444444,\"#bd3786\"],[0.5555555555555556,\"#d8576b\"],[0.6666666666666666,\"#ed7953\"],[0.7777777777777778,\"#fb9f3a\"],[0.8888888888888888,\"#fdca26\"],[1.0,\"#f0f921\"]]}],\"contourcarpet\":[{\"type\":\"contourcarpet\",\"colorbar\":{\"outlinewidth\":0,\"ticks\":\"\"}}],\"contour\":[{\"type\":\"contour\",\"colorbar\":{\"outlinewidth\":0,\"ticks\":\"\"},\"colorscale\":[[0.0,\"#0d0887\"],[0.1111111111111111,\"#46039f\"],[0.2222222222222222,\"#7201a8\"],[0.3333333333333333,\"#9c179e\"],[0.4444444444444444,\"#bd3786\"],[0.5555555555555556,\"#d8576b\"],[0.6666666666666666,\"#ed7953\"],[0.7777777777777778,\"#fb9f3a\"],[0.8888888888888888,\"#fdca26\"],[1.0,\"#f0f921\"]]}],\"surface\":[{\"type\":\"surface\",\"colorbar\":{\"outlinewidth\":0,\"ticks\":\"\"},\"colorscale\":[[0.0,\"#0d0887\"],[0.1111111111111111,\"#46039f\"],[0.2222222222222222,\"#7201a8\"],[0.3333333333333333,\"#9c179e\"],[0.4444444444444444,\"#bd3786\"],[0.5555555555555556,\"#d8576b\"],[0.6666666666666666,\"#ed7953\"],[0.7777777777777778,\"#fb9f3a\"],[0.8888888888888888,\"#fdca26\"],[1.0,\"#f0f921\"]]}],\"mesh3d\":[{\"type\":\"mesh3d\",\"colorbar\":{\"outlinewidth\":0,\"ticks\":\"\"}}],\"scatter\":[{\"fillpattern\":{\"fillmode\":\"overlay\",\"size\":10,\"solidity\":0.2},\"type\":\"scatter\"}],\"parcoords\":[{\"type\":\"parcoords\",\"line\":{\"colorbar\":{\"outlinewidth\":0,\"ticks\":\"\"}}}],\"scatterpolargl\":[{\"type\":\"scatterpolargl\",\"marker\":{\"colorbar\":{\"outlinewidth\":0,\"ticks\":\"\"}}}],\"bar\":[{\"error_x\":{\"color\":\"#2a3f5f\"},\"error_y\":{\"color\":\"#2a3f5f\"},\"marker\":{\"line\":{\"color\":\"#E5ECF6\",\"width\":0.5},\"pattern\":{\"fillmode\":\"overlay\",\"size\":10,\"solidity\":0.2}},\"type\":\"bar\"}],\"scattergeo\":[{\"type\":\"scattergeo\",\"marker\":{\"colorbar\":{\"outlinewidth\":0,\"ticks\":\"\"}}}],\"scatterpolar\":[{\"type\":\"scatterpolar\",\"marker\":{\"colorbar\":{\"outlinewidth\":0,\"ticks\":\"\"}}}],\"histogram\":[{\"marker\":{\"pattern\":{\"fillmode\":\"overlay\",\"size\":10,\"solidity\":0.2}},\"type\":\"histogram\"}],\"scattergl\":[{\"type\":\"scattergl\",\"marker\":{\"colorbar\":{\"outlinewidth\":0,\"ticks\":\"\"}}}],\"scatter3d\":[{\"type\":\"scatter3d\",\"line\":{\"colorbar\":{\"outlinewidth\":0,\"ticks\":\"\"}},\"marker\":{\"colorbar\":{\"outlinewidth\":0,\"ticks\":\"\"}}}],\"scattermapbox\":[{\"type\":\"scattermapbox\",\"marker\":{\"colorbar\":{\"outlinewidth\":0,\"ticks\":\"\"}}}],\"scatterternary\":[{\"type\":\"scatterternary\",\"marker\":{\"colorbar\":{\"outlinewidth\":0,\"ticks\":\"\"}}}],\"scattercarpet\":[{\"type\":\"scattercarpet\",\"marker\":{\"colorbar\":{\"outlinewidth\":0,\"ticks\":\"\"}}}],\"carpet\":[{\"aaxis\":{\"endlinecolor\":\"#2a3f5f\",\"gridcolor\":\"white\",\"linecolor\":\"white\",\"minorgridcolor\":\"white\",\"startlinecolor\":\"#2a3f5f\"},\"baxis\":{\"endlinecolor\":\"#2a3f5f\",\"gridcolor\":\"white\",\"linecolor\":\"white\",\"minorgridcolor\":\"white\",\"startlinecolor\":\"#2a3f5f\"},\"type\":\"carpet\"}],\"table\":[{\"cells\":{\"fill\":{\"color\":\"#EBF0F8\"},\"line\":{\"color\":\"white\"}},\"header\":{\"fill\":{\"color\":\"#C8D4E3\"},\"line\":{\"color\":\"white\"}},\"type\":\"table\"}],\"barpolar\":[{\"marker\":{\"line\":{\"color\":\"#E5ECF6\",\"width\":0.5},\"pattern\":{\"fillmode\":\"overlay\",\"size\":10,\"solidity\":0.2}},\"type\":\"barpolar\"}],\"pie\":[{\"automargin\":true,\"type\":\"pie\"}]},\"layout\":{\"autotypenumbers\":\"strict\",\"colorway\":[\"#636efa\",\"#EF553B\",\"#00cc96\",\"#ab63fa\",\"#FFA15A\",\"#19d3f3\",\"#FF6692\",\"#B6E880\",\"#FF97FF\",\"#FECB52\"],\"font\":{\"color\":\"#2a3f5f\"},\"hovermode\":\"closest\",\"hoverlabel\":{\"align\":\"left\"},\"paper_bgcolor\":\"white\",\"plot_bgcolor\":\"#E5ECF6\",\"polar\":{\"bgcolor\":\"#E5ECF6\",\"angularaxis\":{\"gridcolor\":\"white\",\"linecolor\":\"white\",\"ticks\":\"\"},\"radialaxis\":{\"gridcolor\":\"white\",\"linecolor\":\"white\",\"ticks\":\"\"}},\"ternary\":{\"bgcolor\":\"#E5ECF6\",\"aaxis\":{\"gridcolor\":\"white\",\"linecolor\":\"white\",\"ticks\":\"\"},\"baxis\":{\"gridcolor\":\"white\",\"linecolor\":\"white\",\"ticks\":\"\"},\"caxis\":{\"gridcolor\":\"white\",\"linecolor\":\"white\",\"ticks\":\"\"}},\"coloraxis\":{\"colorbar\":{\"outlinewidth\":0,\"ticks\":\"\"}},\"colorscale\":{\"sequential\":[[0.0,\"#0d0887\"],[0.1111111111111111,\"#46039f\"],[0.2222222222222222,\"#7201a8\"],[0.3333333333333333,\"#9c179e\"],[0.4444444444444444,\"#bd3786\"],[0.5555555555555556,\"#d8576b\"],[0.6666666666666666,\"#ed7953\"],[0.7777777777777778,\"#fb9f3a\"],[0.8888888888888888,\"#fdca26\"],[1.0,\"#f0f921\"]],\"sequentialminus\":[[0.0,\"#0d0887\"],[0.1111111111111111,\"#46039f\"],[0.2222222222222222,\"#7201a8\"],[0.3333333333333333,\"#9c179e\"],[0.4444444444444444,\"#bd3786\"],[0.5555555555555556,\"#d8576b\"],[0.6666666666666666,\"#ed7953\"],[0.7777777777777778,\"#fb9f3a\"],[0.8888888888888888,\"#fdca26\"],[1.0,\"#f0f921\"]],\"diverging\":[[0,\"#8e0152\"],[0.1,\"#c51b7d\"],[0.2,\"#de77ae\"],[0.3,\"#f1b6da\"],[0.4,\"#fde0ef\"],[0.5,\"#f7f7f7\"],[0.6,\"#e6f5d0\"],[0.7,\"#b8e186\"],[0.8,\"#7fbc41\"],[0.9,\"#4d9221\"],[1,\"#276419\"]]},\"xaxis\":{\"gridcolor\":\"white\",\"linecolor\":\"white\",\"ticks\":\"\",\"title\":{\"standoff\":15},\"zerolinecolor\":\"white\",\"automargin\":true,\"zerolinewidth\":2},\"yaxis\":{\"gridcolor\":\"white\",\"linecolor\":\"white\",\"ticks\":\"\",\"title\":{\"standoff\":15},\"zerolinecolor\":\"white\",\"automargin\":true,\"zerolinewidth\":2},\"scene\":{\"xaxis\":{\"backgroundcolor\":\"#E5ECF6\",\"gridcolor\":\"white\",\"linecolor\":\"white\",\"showbackground\":true,\"ticks\":\"\",\"zerolinecolor\":\"white\",\"gridwidth\":2},\"yaxis\":{\"backgroundcolor\":\"#E5ECF6\",\"gridcolor\":\"white\",\"linecolor\":\"white\",\"showbackground\":true,\"ticks\":\"\",\"zerolinecolor\":\"white\",\"gridwidth\":2},\"zaxis\":{\"backgroundcolor\":\"#E5ECF6\",\"gridcolor\":\"white\",\"linecolor\":\"white\",\"showbackground\":true,\"ticks\":\"\",\"zerolinecolor\":\"white\",\"gridwidth\":2}},\"shapedefaults\":{\"line\":{\"color\":\"#2a3f5f\"}},\"annotationdefaults\":{\"arrowcolor\":\"#2a3f5f\",\"arrowhead\":0,\"arrowwidth\":1},\"geo\":{\"bgcolor\":\"white\",\"landcolor\":\"#E5ECF6\",\"subunitcolor\":\"white\",\"showland\":true,\"showlakes\":true,\"lakecolor\":\"white\"},\"title\":{\"x\":0.05},\"mapbox\":{\"style\":\"light\"}}},\"scene\":{\"domain\":{\"x\":[0.0,1.0],\"y\":[0.0,1.0]},\"xaxis\":{\"title\":{\"text\":\"x\"}},\"yaxis\":{\"title\":{\"text\":\"y\"}},\"zaxis\":{\"title\":{\"text\":\"z\"}}},\"coloraxis\":{\"colorbar\":{\"title\":{\"text\":\"color\"}},\"colorscale\":[[0.0,\"#0d0887\"],[0.1111111111111111,\"#46039f\"],[0.2222222222222222,\"#7201a8\"],[0.3333333333333333,\"#9c179e\"],[0.4444444444444444,\"#bd3786\"],[0.5555555555555556,\"#d8576b\"],[0.6666666666666666,\"#ed7953\"],[0.7777777777777778,\"#fb9f3a\"],[0.8888888888888888,\"#fdca26\"],[1.0,\"#f0f921\"]]},\"legend\":{\"tracegroupgap\":0,\"itemsizing\":\"constant\"},\"title\":{\"text\":\"Sample 3D Scatter Plot\"}},                        {\"responsive\": true}                    ).then(function(){\n",
              "                            \n",
              "var gd = document.getElementById('b385ee92-6f96-4f19-bcb8-0245a7ba1797');\n",
              "var x = new MutationObserver(function (mutations, observer) {{\n",
              "        var display = window.getComputedStyle(gd).display;\n",
              "        if (!display || display === 'none') {{\n",
              "            console.log([gd, 'removed!']);\n",
              "            Plotly.purge(gd);\n",
              "            observer.disconnect();\n",
              "        }}\n",
              "}});\n",
              "\n",
              "// Listen for the removal of the full notebook cells\n",
              "var notebookContainer = gd.closest('#notebook-container');\n",
              "if (notebookContainer) {{\n",
              "    x.observe(notebookContainer, {childList: true});\n",
              "}}\n",
              "\n",
              "// Listen for the clearing of the current output cell\n",
              "var outputEl = gd.closest('.output');\n",
              "if (outputEl) {{\n",
              "    x.observe(outputEl, {childList: true});\n",
              "}}\n",
              "\n",
              "                        })                };                            </script>        </div>\n",
              "</body>\n",
              "</html>"
            ]
          },
          "metadata": {}
        }
      ]
    }
  ]
}